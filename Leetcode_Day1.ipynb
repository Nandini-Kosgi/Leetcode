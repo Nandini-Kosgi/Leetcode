{
 "cells": [
  {
   "cell_type": "code",
   "execution_count": null,
   "id": "399a7081-e2c4-4575-b201-370a2e82b233",
   "metadata": {},
   "outputs": [],
   "source": [
    "#TriangleType\n",
    "from typing import List\n",
    "\n",
    "class Solution:\n",
    "    def triangleType(self, nums: List[int]) -> str:\n",
    "        a, b, c = sorted(nums)\n",
    "\n",
    "        # Check if it's a valid triangle using triangle inequality theorem\n",
    "        if a + b <= c:\n",
    "            return \"none\"\n",
    "\n",
    "        # Determine the type of triangle\n",
    "        if a == b == c:\n",
    "            return \"equilateral\"\n",
    "        elif a == b or b == c or a == c:\n",
    "            return \"isosceles\"\n",
    "        else:\n",
    "            return \"scalene\"\n"
   ]
  },
  {
   "cell_type": "code",
   "execution_count": null,
   "id": "5266c998-359f-491d-aece-66150a3f1b94",
   "metadata": {},
   "outputs": [],
   "source": [
    "#Two Sum\n",
    "from typing import List\n",
    "\n",
    "class Solution:\n",
    "    def twoSum(self, nums: List[int], target: int) -> List[int]:\n",
    "        for i in range(len(nums)):\n",
    "            for j in range(i + 1, len(nums)):\n",
    "                if nums[i] + nums[j] == target:\n",
    "                    return [i, j]\n"
   ]
  },
  {
   "cell_type": "code",
   "execution_count": null,
   "id": "abb0724b-6154-4434-abe8-365b989598cf",
   "metadata": {},
   "outputs": [],
   "source": [
    "#addTwoNumbers\n",
    "# Definition for singly-linked list.\n",
    "# class ListNode:\n",
    "#     def __init__(self, val=0, next=None):\n",
    "#         self.val = val\n",
    "#         self.next = next\n",
    "\n",
    "class Solution:\n",
    "    def addTwoNumbers(self, l1: Optional[ListNode], l2: Optional[ListNode]) -> Optional[ListNode]:\n",
    "        dummy = ListNode()  # Dummy node to start the result list\n",
    "        current = dummy     # Pointer to the current node in the result list\n",
    "        carry = 0           # Initialize carry to 0\n",
    "\n",
    "        # Loop until both lists are done and no carry is left\n",
    "        while l1 or l2 or carry:\n",
    "            # Get values from current nodes (or 0 if one list is shorter)\n",
    "            val1 = l1.val if l1 else 0\n",
    "            val2 = l2.val if l2 else 0\n",
    "\n",
    "            # Compute the sum and carry\n",
    "            total = val1 + val2 + carry\n",
    "            carry = total // 10\n",
    "            digit = total % 10\n",
    "\n",
    "            # Create new node with the digit\n",
    "            current.next = ListNode(digit)\n",
    "            current = current.next\n",
    "\n",
    "            # Advance the input list pointers\n",
    "            if l1:\n",
    "                l1 = l1.next\n",
    "            if l2:\n",
    "                l2 = l2.next\n",
    "\n",
    "        return dummy.next  # Return the real head of the new list\n"
   ]
  }
 ],
 "metadata": {
  "kernelspec": {
   "display_name": "Python 3 (ipykernel)",
   "language": "python",
   "name": "python3"
  },
  "language_info": {
   "codemirror_mode": {
    "name": "ipython",
    "version": 3
   },
   "file_extension": ".py",
   "mimetype": "text/x-python",
   "name": "python",
   "nbconvert_exporter": "python",
   "pygments_lexer": "ipython3",
   "version": "3.12.7"
  }
 },
 "nbformat": 4,
 "nbformat_minor": 5
}
