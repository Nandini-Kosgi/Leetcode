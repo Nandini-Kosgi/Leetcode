{
 "cells": [
  {
   "cell_type": "code",
   "execution_count": 1,
   "id": "b824674b-0f53-4dda-89d0-9c8f45ac233f",
   "metadata": {},
   "outputs": [
    {
     "name": "stdout",
     "output_type": "stream",
     "text": [
      "PAHNAPLSIIGYIR\n",
      "PINALSIGYAHRPI\n",
      "A\n"
     ]
    }
   ],
   "source": [
    "#Zigzag Conversion\n",
    "class Solution:\n",
    "    def convert(self, s: str, numRows: int) -> str:\n",
    "        if numRows == 1 or numRows >= len(s):\n",
    "            return s\n",
    "\n",
    "        rows = [''] * numRows\n",
    "        current_row = 0\n",
    "        going_down = False\n",
    "\n",
    "        for char in s:\n",
    "            rows[current_row] += char\n",
    "            if current_row == 0 or current_row == numRows - 1:\n",
    "                going_down = not going_down\n",
    "            current_row += 1 if going_down else -1\n",
    "\n",
    "        return ''.join(rows)\n",
    "sol = Solution()\n",
    "print(sol.convert(\"PAYPALISHIRING\", 3))  # Output: \"PAHNAPLSIIGYIR\"\n",
    "print(sol.convert(\"PAYPALISHIRING\", 4))  # Output: \"PINALSIGYAHRPI\"\n",
    "print(sol.convert(\"A\", 1))               # Output: \"A\"\n"
   ]
  },
  {
   "cell_type": "code",
   "execution_count": 2,
   "id": "62fc0559-37ba-40d2-abc3-0c17f1659b91",
   "metadata": {},
   "outputs": [
    {
     "name": "stdout",
     "output_type": "stream",
     "text": [
      "321\n",
      "-321\n",
      "21\n",
      "0\n",
      "0\n"
     ]
    }
   ],
   "source": [
    "#reverses the digits\n",
    "class Solution:\n",
    "    def reverse(self, x: int) -> int:\n",
    "        INT_MIN, INT_MAX = -2**31, 2**31 - 1\n",
    "        res = 0\n",
    "        sign = -1 if x < 0 else 1\n",
    "        x = abs(x)\n",
    "\n",
    "        while x != 0:\n",
    "            digit = x % 10\n",
    "            x //= 10\n",
    "\n",
    "            # Check overflow before adding the digit\n",
    "            if res > (INT_MAX - digit) // 10:\n",
    "                return 0\n",
    "            res = res * 10 + digit\n",
    "\n",
    "        return sign * res\n",
    "sol = Solution()\n",
    "print(sol.reverse(123))    # Output: 321\n",
    "print(sol.reverse(-123))   # Output: -321\n",
    "print(sol.reverse(120))    # Output: 21\n",
    "print(sol.reverse(0))      # Output: 0\n",
    "print(sol.reverse(1534236469))  # Output: 0 (overflow case)\n"
   ]
  },
  {
   "cell_type": "code",
   "execution_count": 3,
   "id": "6aa9f95c-91a4-4a6f-ac71-ebc22e6d2d75",
   "metadata": {},
   "outputs": [
    {
     "name": "stdout",
     "output_type": "stream",
     "text": [
      "42\n",
      "-42\n",
      "1337\n",
      "0\n",
      "0\n",
      "-2147483648\n"
     ]
    }
   ],
   "source": [
    "#The myAtoi(string s) function, which converts a string to a 32-bit signed integer.\n",
    "class Solution:\n",
    "    def myAtoi(self, s: str) -> int:\n",
    "        INT_MIN, INT_MAX = -2**31, 2**31 - 1\n",
    "        \n",
    "        i, n = 0, len(s)\n",
    "        result = 0\n",
    "        sign = 1\n",
    "\n",
    "        # Step 1: Skip leading whitespaces\n",
    "        while i < n and s[i] == ' ':\n",
    "            i += 1\n",
    "        \n",
    "        # Step 2: Check for optional sign\n",
    "        if i < n and (s[i] == '+' or s[i] == '-'):\n",
    "            sign = -1 if s[i] == '-' else 1\n",
    "            i += 1\n",
    "\n",
    "        # Step 3: Convert digits to integer\n",
    "        while i < n and s[i].isdigit():\n",
    "            digit = int(s[i])\n",
    "\n",
    "            # Step 4: Check for overflow/underflow before it happens\n",
    "            if result > (INT_MAX - digit) // 10:\n",
    "                return INT_MIN if sign == -1 else INT_MAX\n",
    "\n",
    "            result = result * 10 + digit\n",
    "            i += 1\n",
    "\n",
    "        return sign * result\n",
    "sol = Solution()\n",
    "print(sol.myAtoi(\"42\"))           # Output: 42\n",
    "print(sol.myAtoi(\"   -042\"))      # Output: -42\n",
    "print(sol.myAtoi(\"1337c0d3\"))     # Output: 1337\n",
    "print(sol.myAtoi(\"0-1\"))          # Output: 0\n",
    "print(sol.myAtoi(\"words and 987\"))# Output: 0\n",
    "print(sol.myAtoi(\"-91283472332\")) # Output: -2147483648 (clamped to INT_MIN)\n"
   ]
  },
  {
   "cell_type": "code",
   "execution_count": null,
   "id": "7e27c0ca-0753-45f7-9f1c-de56a60daf48",
   "metadata": {},
   "outputs": [],
   "source": []
  }
 ],
 "metadata": {
  "kernelspec": {
   "display_name": "Python 3 (ipykernel)",
   "language": "python",
   "name": "python3"
  },
  "language_info": {
   "codemirror_mode": {
    "name": "ipython",
    "version": 3
   },
   "file_extension": ".py",
   "mimetype": "text/x-python",
   "name": "python",
   "nbconvert_exporter": "python",
   "pygments_lexer": "ipython3",
   "version": "3.12.7"
  }
 },
 "nbformat": 4,
 "nbformat_minor": 5
}
