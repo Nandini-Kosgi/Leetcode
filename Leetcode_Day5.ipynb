{
 "cells": [
  {
   "cell_type": "code",
   "execution_count": 1,
   "id": "c3b6c141-f94d-4bb9-bfcd-5988e6261b9a",
   "metadata": {},
   "outputs": [],
   "source": [
    "#Find the Maximum Sum of Node Values. Leetcode-3068\n",
    "\n",
    "from typing import List\n",
    "\n",
    "class Solution:\n",
    "    def maximumValueSum(self, nums: List[int], k: int, edges: List[List[int]]) -> int:\n",
    "        maxSum = sum(max(num, num ^ k) for num in nums)\n",
    "        changedCount = sum((num ^ k) > num for num in nums)\n",
    "        if changedCount % 2 == 0:\n",
    "            return maxSum\n",
    "        minChangeDiff = min(abs(num - (num ^ k)) for num in nums)\n",
    "        return maxSum - minChangeDiff\n"
   ]
  },
  {
   "cell_type": "code",
   "execution_count": null,
   "id": "4f12d07a-7394-4e61-8dee-c6092c20b46d",
   "metadata": {},
   "outputs": [],
   "source": []
  }
 ],
 "metadata": {
  "kernelspec": {
   "display_name": "Python 3 (ipykernel)",
   "language": "python",
   "name": "python3"
  },
  "language_info": {
   "codemirror_mode": {
    "name": "ipython",
    "version": 3
   },
   "file_extension": ".py",
   "mimetype": "text/x-python",
   "name": "python",
   "nbconvert_exporter": "python",
   "pygments_lexer": "ipython3",
   "version": "3.12.7"
  }
 },
 "nbformat": 4,
 "nbformat_minor": 5
}
