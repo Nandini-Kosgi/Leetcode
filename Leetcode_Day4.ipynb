{
 "cells": [
  {
   "cell_type": "code",
   "execution_count": 2,
   "id": "aabc4368-823b-420f-9006-d4566e603546",
   "metadata": {},
   "outputs": [
    {
     "name": "stdout",
     "output_type": "stream",
     "text": [
      "[1, 0, 3]\n",
      "[0, 0, 0]\n",
      "[7, 0, 9]\n"
     ]
    }
   ],
   "source": [
    "from typing import List\n",
    "\n",
    "class Solution:\n",
    "    def setZeroes(self, matrix: List[List[int]]) -> None:\n",
    "        rows = len(matrix)\n",
    "        cols = len(matrix[0])\n",
    "        first_row_has_zero = any(matrix[0][j] == 0 for j in range(cols))\n",
    "        first_col_has_zero = any(matrix[i][0] == 0 for i in range(rows))\n",
    "\n",
    "        for i in range(1, rows):\n",
    "            for j in range(1, cols):\n",
    "                if matrix[i][j] == 0:\n",
    "                    matrix[i][0] = 0\n",
    "                    matrix[0][j] = 0\n",
    "\n",
    "        for i in range(1, rows):\n",
    "            for j in range(1, cols):\n",
    "                if matrix[i][0] == 0 or matrix[0][j] == 0:\n",
    "                    matrix[i][j] = 0\n",
    "\n",
    "        if first_row_has_zero:\n",
    "            for j in range(cols):\n",
    "                matrix[0][j] = 0\n",
    "\n",
    "        if first_col_has_zero:\n",
    "            for i in range(rows):\n",
    "                matrix[i][0] = 0\n",
    "\n",
    "# Sample input\n",
    "matrix = [\n",
    "    [1, 2, 3],\n",
    "    [4, 0, 6],\n",
    "    [7, 8, 9]\n",
    "]\n",
    "\n",
    "# Create an instance of Solution and call setZeroes\n",
    "sol = Solution()\n",
    "sol.setZeroes(matrix)\n",
    "\n",
    "# Print the result\n",
    "for row in matrix:\n",
    "    print(row)\n"
   ]
  },
  {
   "cell_type": "code",
   "execution_count": 3,
   "id": "545456de-6570-48f7-8e1b-a0bb7c354e24",
   "metadata": {},
   "outputs": [
    {
     "name": "stdout",
     "output_type": "stream",
     "text": [
      "bab\n",
      "bb\n",
      "a\n",
      "a\n"
     ]
    }
   ],
   "source": [
    "#Palindrome Substring\n",
    "class Solution:\n",
    "    def longestPalindrome(self, s: str) -> str:\n",
    "        def expand_around_center(left: int, right: int) -> str:\n",
    "            while left >= 0 and right < len(s) and s[left] == s[right]:\n",
    "                left -= 1\n",
    "                right += 1\n",
    "            return s[left + 1:right]\n",
    "\n",
    "        longest = \"\"\n",
    "        for i in range(len(s)):\n",
    "            # Odd-length palindrome\n",
    "            odd = expand_around_center(i, i)\n",
    "            # Even-length palindrome\n",
    "            even = expand_around_center(i, i + 1)\n",
    "            # Update the longest if needed\n",
    "            if len(odd) > len(longest):\n",
    "                longest = odd\n",
    "            if len(even) > len(longest):\n",
    "                longest = even\n",
    "\n",
    "        return longest\n",
    "sol = Solution()\n",
    "print(sol.longestPalindrome(\"babad\"))  # Output: \"bab\" or \"aba\"\n",
    "print(sol.longestPalindrome(\"cbbd\"))   # Output: \"bb\"\n",
    "print(sol.longestPalindrome(\"a\"))      # Output: \"a\"\n",
    "print(sol.longestPalindrome(\"ac\"))     # Output: \"a\" or \"c\"\n"
   ]
  },
  {
   "cell_type": "code",
   "execution_count": 4,
   "id": "8f206b40-6ab4-4a79-bee0-5188601eb334",
   "metadata": {},
   "outputs": [
    {
     "name": "stdout",
     "output_type": "stream",
     "text": [
      "True\n",
      "False\n",
      "False\n",
      "True\n"
     ]
    }
   ],
   "source": [
    "#Palindrome Number\n",
    "class Solution:\n",
    "    def isPalindrome(self, x: int) -> bool:\n",
    "        # Negative numbers are not palindromes\n",
    "        if x < 0 or (x % 10 == 0 and x != 0):\n",
    "            return False\n",
    "        \n",
    "        reversed_half = 0\n",
    "        while x > reversed_half:\n",
    "            reversed_half = reversed_half * 10 + x % 10\n",
    "            x //= 10\n",
    "        \n",
    "        # x == reversed_half for even length\n",
    "        # x == reversed_half // 10 for odd length\n",
    "        return x == reversed_half or x == reversed_half // 10\n",
    "sol = Solution()\n",
    "print(sol.isPalindrome(121))   # True\n",
    "print(sol.isPalindrome(-121))  # False\n",
    "print(sol.isPalindrome(10))    # False\n",
    "print(sol.isPalindrome(0))     # True\n"
   ]
  },
  {
   "cell_type": "code",
   "execution_count": null,
   "id": "869462ab-52f8-402e-a37f-639fe5df19fe",
   "metadata": {},
   "outputs": [],
   "source": []
  }
 ],
 "metadata": {
  "kernelspec": {
   "display_name": "Python 3 (ipykernel)",
   "language": "python",
   "name": "python3"
  },
  "language_info": {
   "codemirror_mode": {
    "name": "ipython",
    "version": 3
   },
   "file_extension": ".py",
   "mimetype": "text/x-python",
   "name": "python",
   "nbconvert_exporter": "python",
   "pygments_lexer": "ipython3",
   "version": "3.12.7"
  }
 },
 "nbformat": 4,
 "nbformat_minor": 5
}
