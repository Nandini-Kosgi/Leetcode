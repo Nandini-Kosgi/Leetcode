{
 "cells": [
  {
   "cell_type": "code",
   "execution_count": null,
   "id": "da3956f8-f647-4e50-b2fc-6d1a7399beb5",
   "metadata": {},
   "outputs": [],
   "source": [
    "#Longest Palindrome by Concatenating Two Letter Words\n",
    "from collections import Counter\n",
    "\n",
    "class Solution:\n",
    "    def longestPalindrome(self, words):\n",
    "        count = Counter(words)\n",
    "        length = 0\n",
    "        center_used = False\n",
    "\n",
    "        for word in count:\n",
    "            rev = word[::-1]\n",
    "            if word == rev:\n",
    "                # For symmetric words like \"gg\", we can use pairs\n",
    "                pairs = count[word] // 2\n",
    "                length += pairs * 4\n",
    "                if count[word] % 2 == 1:\n",
    "                    center_used = True\n",
    "            else:\n",
    "                if rev in count:\n",
    "                    # Pair \"ab\" with \"ba\"\n",
    "                    pairs = min(count[word], count[rev])\n",
    "                    length += pairs * 4\n",
    "                    count[rev] = 0  # To avoid double-counting\n",
    "        if center_used:\n",
    "            length += 2  # Use one symmetric word in the center\n",
    "        return length"
   ]
  }
 ],
 "metadata": {
  "kernelspec": {
   "display_name": "Python 3 (ipykernel)",
   "language": "python",
   "name": "python3"
  },
  "language_info": {
   "codemirror_mode": {
    "name": "ipython",
    "version": 3
   },
   "file_extension": ".py",
   "mimetype": "text/x-python",
   "name": "python",
   "nbconvert_exporter": "python",
   "pygments_lexer": "ipython3",
   "version": "3.12.7"
  }
 },
 "nbformat": 4,
 "nbformat_minor": 5
}
