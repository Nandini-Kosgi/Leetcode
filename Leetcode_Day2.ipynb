{
 "cells": [
  {
   "cell_type": "code",
   "execution_count": 2,
   "id": "23a7f5b2-1132-4089-bfef-19896c681abc",
   "metadata": {},
   "outputs": [
    {
     "name": "stdout",
     "output_type": "stream",
     "text": [
      "True\n",
      "False\n"
     ]
    }
   ],
   "source": [
    "#Zero Array Transformation\n",
    "from typing import List\n",
    "\n",
    "class Solution:\n",
    "    def isZeroArray(self, nums: List[int], queries: List[List[int]]) -> bool:\n",
    "        n = len(nums)\n",
    "        diff = [0] * (n + 1)  # Difference array to track how many times each index is covered\n",
    "\n",
    "        # Step 1: Apply each query to the difference array\n",
    "        for l, r in queries:\n",
    "            diff[l] += 1\n",
    "            if r + 1 < n:\n",
    "                diff[r + 1] -= 1\n",
    "\n",
    "        # Step 2: Build the prefix sum (coverage) array\n",
    "        cover = [0] * n\n",
    "        cover[0] = diff[0]\n",
    "        for i in range(1, n):\n",
    "            cover[i] = cover[i - 1] + diff[i]\n",
    "\n",
    "        # Step 3: Check if each index has enough coverage to be decremented to zero\n",
    "        for i in range(n):\n",
    "            if cover[i] < nums[i]:\n",
    "                return False\n",
    "\n",
    "        return True\n",
    "\n",
    "sol = Solution()\n",
    "print(sol.isZeroArray([1, 0, 1], [[0, 2]]))  # Output: True\n",
    "print(sol.isZeroArray([4, 3, 2, 1], [[1, 3], [0, 2]]))  # Output: False\n",
    "\n"
   ]
  },
  {
   "cell_type": "code",
   "execution_count": 1,
   "id": "ada39cb1-304a-4aab-8d9d-b7bbdedfba71",
   "metadata": {},
   "outputs": [
    {
     "name": "stdout",
     "output_type": "stream",
     "text": [
      "3\n",
      "1\n",
      "3\n",
      "0\n"
     ]
    }
   ],
   "source": [
    "#LongestSubstring(Using Sliding Window Technique (start,end))\n",
    "class Solution:\n",
    "    def lengthOfLongestSubstring(self, s: str) -> int:\n",
    "        last_seen = {}\n",
    "        start = 0\n",
    "        max_len = 0\n",
    "\n",
    "        for end in range(len(s)):\n",
    "            char = s[end]\n",
    "            if char in last_seen and last_seen[char] >= start:\n",
    "                start = last_seen[char] + 1  # Move the start to avoid duplicate\n",
    "            last_seen[char] = end\n",
    "            max_len = max(max_len, end - start + 1)\n",
    "\n",
    "        return max_len\n",
    "\n",
    "sol = Solution()\n",
    "print(sol.lengthOfLongestSubstring(\"abcabcbb\"))  # Output: 3\n",
    "print(sol.lengthOfLongestSubstring(\"bbbbb\"))     # Output: 1\n",
    "print(sol.lengthOfLongestSubstring(\"pwwkew\"))    # Output: 3\n",
    "print(sol.lengthOfLongestSubstring(\"\"))          # Output: 0\n"
   ]
  },
  {
   "cell_type": "code",
   "execution_count": null,
   "id": "cdb606e6-3d27-4810-990b-b36679de4366",
   "metadata": {},
   "outputs": [],
   "source": [
    "#Median of Two Sorted Arrays\n",
    "        # Ensure nums1 is the smaller array\n",
    "        if len(nums1) > len(nums2):\n",
    "            nums1, nums2 = nums2, nums1\n",
    "\n",
    "        x, y = len(nums1), len(nums2)\n",
    "        low, high = 0, x\n",
    "\n",
    "        while low <= high:\n",
    "            partitionX = (low + high) // 2\n",
    "            partitionY = (x + y + 1) // 2 - partitionX\n",
    "\n",
    "            maxLeftX = float('-inf') if partitionX == 0 else nums1[partitionX - 1]\n",
    "            minRightX = float('inf') if partitionX == x else nums1[partitionX]\n",
    "\n",
    "            maxLeftY = float('-inf') if partitionY == 0 else nums2[partitionY - 1]\n",
    "            minRightY = float('inf') if partitionY == y else nums2[partitionY]\n",
    "\n",
    "            if maxLeftX <= minRightY and maxLeftY <= minRightX:\n",
    "                if (x + y) % 2 == 0:\n",
    "                    return (max(maxLeftX, maxLeftY) + min(minRightX, minRightY)) / 2.0\n",
    "                else:\n",
    "                    return max(maxLeftX, maxLeftY)\n",
    "            elif maxLeftX > minRightY:\n",
    "                high = partitionX - 1\n",
    "            else:\n",
    "                low = partitionX + 1\n",
    "\n",
    "        raise ValueError(\"Input arrays are not sorted properly.\")"
   ]
  },
  {
   "cell_type": "code",
   "execution_count": null,
   "id": "5124e9d3-3f8c-4233-9c27-5777791efb93",
   "metadata": {},
   "outputs": [],
   "source": []
  }
 ],
 "metadata": {
  "kernelspec": {
   "display_name": "Python 3 (ipykernel)",
   "language": "python",
   "name": "python3"
  },
  "language_info": {
   "codemirror_mode": {
    "name": "ipython",
    "version": 3
   },
   "file_extension": ".py",
   "mimetype": "text/x-python",
   "name": "python",
   "nbconvert_exporter": "python",
   "pygments_lexer": "ipython3",
   "version": "3.12.7"
  }
 },
 "nbformat": 4,
 "nbformat_minor": 5
}
